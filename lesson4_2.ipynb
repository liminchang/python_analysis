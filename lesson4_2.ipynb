{
 "cells": [
  {
   "cell_type": "code",
   "execution_count": 1,
   "metadata": {},
   "outputs": [],
   "source": [
    "file = open(file='student.csv',encoding='utf-8')\n",
    "file.close()"
   ]
  },
  {
   "cell_type": "code",
   "execution_count": 2,
   "metadata": {},
   "outputs": [
    {
     "name": "stdout",
     "output_type": "stream",
     "text": [
      "name,chinese,english,math,history,health\n",
      "stuent:1,53,80,95,77,77\n",
      "stuent:2,71,83,69,58,54\n",
      "stuent:3,80,57,74,78,74\n",
      "stuent:4,71,54,80,78,100\n",
      "stuent:5,88,54,84,70,62\n",
      "stuent:6,60,54,94,82,59\n",
      "stuent:7,71,87,85,50,73\n",
      "stuent:8,64,81,96,51,69\n",
      "stuent:9,62,83,86,82,79\n",
      "stuent:10,83,57,58,51,76\n",
      "stuent:11,100,79,62,83,63\n",
      "stuent:12,75,65,71,53,63\n",
      "stuent:13,75,79,55,51,88\n",
      "stuent:14,97,79,91,52,81\n",
      "stuent:15,74,81,99,95,88\n",
      "stuent:16,79,95,50,67,64\n",
      "stuent:17,63,61,91,55,75\n",
      "stuent:18,68,87,76,50,70\n",
      "stuent:19,65,96,72,92,94\n",
      "stuent:20,79,98,94,96,97\n",
      "stuent:21,67,98,53,92,87\n",
      "stuent:22,94,69,59,74,59\n",
      "stuent:23,97,98,50,59,58\n",
      "stuent:24,65,90,90,76,61\n",
      "stuent:25,97,86,68,62,61\n",
      "stuent:26,85,54,63,93,98\n",
      "stuent:27,65,56,83,75,66\n",
      "stuent:28,80,61,81,55,83\n",
      "stuent:29,56,66,55,69,88\n",
      "stuent:30,80,96,62,66,91\n",
      "stuent:31,58,76,71,90,54\n",
      "stuent:32,74,93,98,93,92\n",
      "stuent:33,75,92,81,92,72\n",
      "stuent:34,54,67,62,83,100\n",
      "stuent:35,65,52,89,79,73\n",
      "stuent:36,84,59,78,99,64\n",
      "stuent:37,63,84,81,90,69\n",
      "stuent:38,70,51,59,93,87\n",
      "stuent:39,65,59,71,64,70\n",
      "stuent:40,94,84,57,85,65\n",
      "stuent:41,52,75,99,71,86\n",
      "stuent:42,72,97,77,69,75\n",
      "stuent:43,69,69,86,95,50\n",
      "stuent:44,97,64,96,97,53\n",
      "stuent:45,98,64,92,56,55\n",
      "stuent:46,72,61,64,75,72\n",
      "stuent:47,56,82,71,87,95\n",
      "stuent:48,81,89,94,50,68\n",
      "stuent:49,61,53,55,100,59\n",
      "stuent:50,63,86,52,62,51\n",
      "\n"
     ]
    }
   ],
   "source": [
    "with open(file='student.csv',encoding='utf-8') as file:\n",
    "    content:str = file.read()\n",
    "\n",
    "print(content)"
   ]
  },
  {
   "cell_type": "code",
   "execution_count": 3,
   "metadata": {},
   "outputs": [
    {
     "name": "stdout",
     "output_type": "stream",
     "text": [
      "['name,chinese,english,math,history,health\\n', 'stuent:1,53,80,95,77,77\\n', 'stuent:2,71,83,69,58,54\\n', 'stuent:3,80,57,74,78,74\\n', 'stuent:4,71,54,80,78,100\\n', 'stuent:5,88,54,84,70,62\\n', 'stuent:6,60,54,94,82,59\\n', 'stuent:7,71,87,85,50,73\\n', 'stuent:8,64,81,96,51,69\\n', 'stuent:9,62,83,86,82,79\\n', 'stuent:10,83,57,58,51,76\\n', 'stuent:11,100,79,62,83,63\\n', 'stuent:12,75,65,71,53,63\\n', 'stuent:13,75,79,55,51,88\\n', 'stuent:14,97,79,91,52,81\\n', 'stuent:15,74,81,99,95,88\\n', 'stuent:16,79,95,50,67,64\\n', 'stuent:17,63,61,91,55,75\\n', 'stuent:18,68,87,76,50,70\\n', 'stuent:19,65,96,72,92,94\\n', 'stuent:20,79,98,94,96,97\\n', 'stuent:21,67,98,53,92,87\\n', 'stuent:22,94,69,59,74,59\\n', 'stuent:23,97,98,50,59,58\\n', 'stuent:24,65,90,90,76,61\\n', 'stuent:25,97,86,68,62,61\\n', 'stuent:26,85,54,63,93,98\\n', 'stuent:27,65,56,83,75,66\\n', 'stuent:28,80,61,81,55,83\\n', 'stuent:29,56,66,55,69,88\\n', 'stuent:30,80,96,62,66,91\\n', 'stuent:31,58,76,71,90,54\\n', 'stuent:32,74,93,98,93,92\\n', 'stuent:33,75,92,81,92,72\\n', 'stuent:34,54,67,62,83,100\\n', 'stuent:35,65,52,89,79,73\\n', 'stuent:36,84,59,78,99,64\\n', 'stuent:37,63,84,81,90,69\\n', 'stuent:38,70,51,59,93,87\\n', 'stuent:39,65,59,71,64,70\\n', 'stuent:40,94,84,57,85,65\\n', 'stuent:41,52,75,99,71,86\\n', 'stuent:42,72,97,77,69,75\\n', 'stuent:43,69,69,86,95,50\\n', 'stuent:44,97,64,96,97,53\\n', 'stuent:45,98,64,92,56,55\\n', 'stuent:46,72,61,64,75,72\\n', 'stuent:47,56,82,71,87,95\\n', 'stuent:48,81,89,94,50,68\\n', 'stuent:49,61,53,55,100,59\\n', 'stuent:50,63,86,52,62,51\\n']\n"
     ]
    }
   ],
   "source": [
    "with open(file='student.csv',encoding='utf-8') as file:\n",
    "    lines:list[str] = file.readlines()\n",
    "    print(lines)"
   ]
  },
  {
   "cell_type": "code",
   "execution_count": 6,
   "metadata": {},
   "outputs": [],
   "source": [
    "import csv\n",
    "with open(file='student.csv',encoding='utf-8') as file:\n",
    "    reader = csv.reader(file)\n",
    "    next(reader)\n",
    "    students:list = list(reader)\n",
    "\n",
    "for student in students:\n",
    "    if student[0] == 'student20':\n",
    "        print(student)"
   ]
  }
 ],
 "metadata": {
  "kernelspec": {
   "display_name": "base",
   "language": "python",
   "name": "python3"
  },
  "language_info": {
   "codemirror_mode": {
    "name": "ipython",
    "version": 3
   },
   "file_extension": ".py",
   "mimetype": "text/x-python",
   "name": "python",
   "nbconvert_exporter": "python",
   "pygments_lexer": "ipython3",
   "version": "3.12.8"
  }
 },
 "nbformat": 4,
 "nbformat_minor": 2
}
