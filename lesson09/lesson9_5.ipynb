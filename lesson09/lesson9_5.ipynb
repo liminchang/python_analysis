{
 "cells": [
  {
   "cell_type": "code",
   "execution_count": 7,
   "metadata": {},
   "outputs": [
    {
     "name": "stdout",
     "output_type": "stream",
     "text": [
      "Requirement already satisfied: jinja2 in /home/codespace/.local/lib/python3.12/site-packages (3.1.4)\n",
      "Requirement already satisfied: MarkupSafe>=2.0 in /home/codespace/.local/lib/python3.12/site-packages (from jinja2) (3.0.2)\n",
      "\n",
      "\u001b[1m[\u001b[0m\u001b[34;49mnotice\u001b[0m\u001b[1;39;49m]\u001b[0m\u001b[39;49m A new release of pip is available: \u001b[0m\u001b[31;49m24.3.1\u001b[0m\u001b[39;49m -> \u001b[0m\u001b[32;49m25.0.1\u001b[0m\n",
      "\u001b[1m[\u001b[0m\u001b[34;49mnotice\u001b[0m\u001b[1;39;49m]\u001b[0m\u001b[39;49m To update, run: \u001b[0m\u001b[32;49mpython3 -m pip install --upgrade pip\u001b[0m\n"
     ]
    }
   ],
   "source": [
    "!pip install jinja2"
   ]
  },
  {
   "cell_type": "code",
   "execution_count": 8,
   "metadata": {},
   "outputs": [
    {
     "data": {
      "text/html": [
       "<div>\n",
       "<style scoped>\n",
       "    .dataframe tbody tr th:only-of-type {\n",
       "        vertical-align: middle;\n",
       "    }\n",
       "\n",
       "    .dataframe tbody tr th {\n",
       "        vertical-align: top;\n",
       "    }\n",
       "\n",
       "    .dataframe thead th {\n",
       "        text-align: right;\n",
       "    }\n",
       "</style>\n",
       "<table border=\"1\" class=\"dataframe\">\n",
       "  <thead>\n",
       "    <tr style=\"text-align: right;\">\n",
       "      <th></th>\n",
       "      <th>strings</th>\n",
       "      <th>ints</th>\n",
       "      <th>float</th>\n",
       "    </tr>\n",
       "  </thead>\n",
       "  <tbody>\n",
       "    <tr>\n",
       "      <th>0</th>\n",
       "      <td>Adam</td>\n",
       "      <td>1</td>\n",
       "      <td>1.123</td>\n",
       "    </tr>\n",
       "    <tr>\n",
       "      <th>1</th>\n",
       "      <td>mike</td>\n",
       "      <td>3</td>\n",
       "      <td>1000.230</td>\n",
       "    </tr>\n",
       "  </tbody>\n",
       "</table>\n",
       "</div>"
      ],
      "text/plain": [
       "  strings  ints     float\n",
       "0    Adam     1     1.123\n",
       "1    mike     3  1000.230"
      ]
     },
     "execution_count": 8,
     "metadata": {},
     "output_type": "execute_result"
    }
   ],
   "source": [
    "import numpy as np\n",
    "import pandas as pd\n",
    "import matplotlib as mpl\n",
    "\n",
    "df = pd.DataFrame({\n",
    "    \"strings\":[\"Adam\",\"mike\"],\n",
    "    \"ints\":[1,3],\n",
    "    \"float\":[1.123,1000.23]\n",
    "})\n",
    "df\n"
   ]
  },
  {
   "cell_type": "code",
   "execution_count": 9,
   "metadata": {},
   "outputs": [
    {
     "ename": "TypeError",
     "evalue": "StylerRenderer.relabel_index() missing 1 required positional argument: 'labels'",
     "output_type": "error",
     "traceback": [
      "\u001b[31m---------------------------------------------------------------------------\u001b[39m",
      "\u001b[31mTypeError\u001b[39m                                 Traceback (most recent call last)",
      "\u001b[36mCell\u001b[39m\u001b[36m \u001b[39m\u001b[32mIn[9]\u001b[39m\u001b[32m, line 5\u001b[39m\n\u001b[32m      1\u001b[39m \u001b[43mdf\u001b[49m\u001b[43m.\u001b[49m\u001b[43mstyle\u001b[49m\u001b[43m.\u001b[49m\u001b[43mformat\u001b[49m\u001b[43m(\u001b[49m\n\u001b[32m      2\u001b[39m \u001b[43m    \u001b[49m\u001b[43mprecision\u001b[49m\u001b[43m=\u001b[49m\u001b[32;43m2\u001b[39;49m\u001b[43m,\u001b[49m\n\u001b[32m      3\u001b[39m \u001b[43m    \u001b[49m\u001b[43mthousands\u001b[49m\u001b[43m=\u001b[49m\u001b[33;43m'\u001b[39;49m\u001b[33;43m,\u001b[39;49m\u001b[33;43m'\u001b[39;49m\u001b[43m,\u001b[49m\n\u001b[32m      4\u001b[39m \u001b[43m    \u001b[49m\u001b[43mdecimal\u001b[49m\u001b[43m=\u001b[49m\u001b[33;43m'\u001b[39;49m\u001b[33;43m.\u001b[39;49m\u001b[33;43m'\u001b[39;49m\n\u001b[32m----> \u001b[39m\u001b[32m5\u001b[39m \u001b[43m    \u001b[49m\u001b[43m)\u001b[49m\u001b[43m.\u001b[49m\u001b[43mformat_index\u001b[49m\u001b[43m(\u001b[49m\u001b[43maxis\u001b[49m\u001b[43m=\u001b[49m\u001b[32;43m1\u001b[39;49m\u001b[43m,\u001b[49m\u001b[43mformatter\u001b[49m\u001b[43m=\u001b[49m\u001b[38;5;28;43mstr\u001b[39;49m\u001b[43m.\u001b[49m\u001b[43mupper\u001b[49m\u001b[43m)\u001b[49m\u001b[43m.\u001b[49m\u001b[43mrelabel_index\u001b[49m\u001b[43m(\u001b[49m\u001b[43m)\u001b[49m\n",
      "\u001b[31mTypeError\u001b[39m: StylerRenderer.relabel_index() missing 1 required positional argument: 'labels'"
     ]
    }
   ],
   "source": [
    "df.style.format(\n",
    "    precision=2,\n",
    "    thousands=',',\n",
    "    decimal='.'\n",
    "    ).format_index(axis=1,formatter=str.upper).relabel_index()"
   ]
  },
  {
   "cell_type": "code",
   "execution_count": 11,
   "metadata": {},
   "outputs": [
    {
     "data": {
      "text/html": [
       "<style type=\"text/css\">\n",
       "</style>\n",
       "<table id=\"T_0edff\">\n",
       "  <thead>\n",
       "    <tr>\n",
       "      <th class=\"blank level0\" >&nbsp;</th>\n",
       "      <th id=\"T_0edff_level0_col0\" class=\"col_heading level0 col0\" >STRINGS</th>\n",
       "      <th id=\"T_0edff_level0_col1\" class=\"col_heading level0 col1\" >INTS</th>\n",
       "      <th id=\"T_0edff_level0_col2\" class=\"col_heading level0 col2\" >FLOAT</th>\n",
       "    </tr>\n",
       "  </thead>\n",
       "  <tbody>\n",
       "    <tr>\n",
       "      <th id=\"T_0edff_level0_row0\" class=\"row_heading level0 row0\" >row1</th>\n",
       "      <td id=\"T_0edff_row0_col0\" class=\"data row0 col0\" >Adam</td>\n",
       "      <td id=\"T_0edff_row0_col1\" class=\"data row0 col1\" >1</td>\n",
       "      <td id=\"T_0edff_row0_col2\" class=\"data row0 col2\" >1.12</td>\n",
       "    </tr>\n",
       "    <tr>\n",
       "      <th id=\"T_0edff_level0_row1\" class=\"row_heading level0 row1\" >row2</th>\n",
       "      <td id=\"T_0edff_row1_col0\" class=\"data row1 col0\" >mike</td>\n",
       "      <td id=\"T_0edff_row1_col1\" class=\"data row1 col1\" >3</td>\n",
       "      <td id=\"T_0edff_row1_col2\" class=\"data row1 col2\" >1,000.23</td>\n",
       "    </tr>\n",
       "  </tbody>\n",
       "</table>\n"
      ],
      "text/plain": [
       "<pandas.io.formats.style.Styler at 0x7073b1ab7d10>"
      ]
     },
     "execution_count": 11,
     "metadata": {},
     "output_type": "execute_result"
    }
   ],
   "source": [
    "df.style\\\n",
    ".format(\n",
    "    precision=2,\n",
    "    thousands=',',\n",
    "    decimal='.'\n",
    "    ).format_index(axis=1,formatter=str.upper)\\\n",
    "        .relabel_index([\"row1\",\"row2\"],axis=0)"
   ]
  },
  {
   "cell_type": "code",
   "execution_count": 13,
   "metadata": {},
   "outputs": [
    {
     "data": {
      "text/html": [
       "<div>\n",
       "<style scoped>\n",
       "    .dataframe tbody tr th:only-of-type {\n",
       "        vertical-align: middle;\n",
       "    }\n",
       "\n",
       "    .dataframe tbody tr th {\n",
       "        vertical-align: top;\n",
       "    }\n",
       "\n",
       "    .dataframe thead th {\n",
       "        text-align: right;\n",
       "    }\n",
       "</style>\n",
       "<table border=\"1\" class=\"dataframe\">\n",
       "  <thead>\n",
       "    <tr style=\"text-align: right;\">\n",
       "      <th></th>\n",
       "      <th>A</th>\n",
       "      <th>B</th>\n",
       "      <th>C</th>\n",
       "      <th>D</th>\n",
       "      <th>E</th>\n",
       "    </tr>\n",
       "  </thead>\n",
       "  <tbody>\n",
       "    <tr>\n",
       "      <th>0</th>\n",
       "      <td>1234.5678</td>\n",
       "      <td>0.1234</td>\n",
       "      <td>蘋果</td>\n",
       "      <td>2023-10-26</td>\n",
       "      <td>NaN</td>\n",
       "    </tr>\n",
       "    <tr>\n",
       "      <th>1</th>\n",
       "      <td>9876.5432</td>\n",
       "      <td>0.5678</td>\n",
       "      <td>香蕉</td>\n",
       "      <td>2023-10-27</td>\n",
       "      <td>1.0</td>\n",
       "    </tr>\n",
       "    <tr>\n",
       "      <th>2</th>\n",
       "      <td>10000.0000</td>\n",
       "      <td>0.9999</td>\n",
       "      <td>櫻桃</td>\n",
       "      <td>2023-10-28</td>\n",
       "      <td>2.0</td>\n",
       "    </tr>\n",
       "  </tbody>\n",
       "</table>\n",
       "</div>"
      ],
      "text/plain": [
       "            A       B   C          D    E\n",
       "0   1234.5678  0.1234  蘋果 2023-10-26  NaN\n",
       "1   9876.5432  0.5678  香蕉 2023-10-27  1.0\n",
       "2  10000.0000  0.9999  櫻桃 2023-10-28  2.0"
      ]
     },
     "execution_count": 13,
     "metadata": {},
     "output_type": "execute_result"
    }
   ],
   "source": [
    "import pandas as pd\n",
    "import numpy as np\n",
    "data = {\n",
    "     'A': [1234.5678, 9876.5432, 10000.00],\n",
    "    'B': [0.1234, 0.5678, 0.9999],\n",
    "    'C': ['蘋果', '香蕉', '櫻桃'],\n",
    "    'D': pd.to_datetime(['2023-10-26', '2023-10-27', '2023-10-28']),\n",
    "    'E': [np.nan, 1, 2]\n",
    "}\n",
    "df = pd.DataFrame(data)\n",
    "df"
   ]
  },
  {
   "cell_type": "code",
   "execution_count": 14,
   "metadata": {},
   "outputs": [
    {
     "data": {
      "text/html": [
       "<style type=\"text/css\">\n",
       "</style>\n",
       "<table id=\"T_f62e2\">\n",
       "  <thead>\n",
       "    <tr>\n",
       "      <th class=\"blank level0\" >&nbsp;</th>\n",
       "      <th id=\"T_f62e2_level0_col0\" class=\"col_heading level0 col0\" >A</th>\n",
       "      <th id=\"T_f62e2_level0_col1\" class=\"col_heading level0 col1\" >B</th>\n",
       "      <th id=\"T_f62e2_level0_col2\" class=\"col_heading level0 col2\" >C</th>\n",
       "      <th id=\"T_f62e2_level0_col3\" class=\"col_heading level0 col3\" >D</th>\n",
       "      <th id=\"T_f62e2_level0_col4\" class=\"col_heading level0 col4\" >E</th>\n",
       "    </tr>\n",
       "  </thead>\n",
       "  <tbody>\n",
       "    <tr>\n",
       "      <th id=\"T_f62e2_level0_row0\" class=\"row_heading level0 row0\" >0</th>\n",
       "      <td id=\"T_f62e2_row0_col0\" class=\"data row0 col0\" >1234.57</td>\n",
       "      <td id=\"T_f62e2_row0_col1\" class=\"data row0 col1\" >0.12</td>\n",
       "      <td id=\"T_f62e2_row0_col2\" class=\"data row0 col2\" >蘋果</td>\n",
       "      <td id=\"T_f62e2_row0_col3\" class=\"data row0 col3\" >2023-10-26 00:00:00</td>\n",
       "      <td id=\"T_f62e2_row0_col4\" class=\"data row0 col4\" >nan</td>\n",
       "    </tr>\n",
       "    <tr>\n",
       "      <th id=\"T_f62e2_level0_row1\" class=\"row_heading level0 row1\" >1</th>\n",
       "      <td id=\"T_f62e2_row1_col0\" class=\"data row1 col0\" >9876.54</td>\n",
       "      <td id=\"T_f62e2_row1_col1\" class=\"data row1 col1\" >0.57</td>\n",
       "      <td id=\"T_f62e2_row1_col2\" class=\"data row1 col2\" >香蕉</td>\n",
       "      <td id=\"T_f62e2_row1_col3\" class=\"data row1 col3\" >2023-10-27 00:00:00</td>\n",
       "      <td id=\"T_f62e2_row1_col4\" class=\"data row1 col4\" >1.000000</td>\n",
       "    </tr>\n",
       "    <tr>\n",
       "      <th id=\"T_f62e2_level0_row2\" class=\"row_heading level0 row2\" >2</th>\n",
       "      <td id=\"T_f62e2_row2_col0\" class=\"data row2 col0\" >10000.00</td>\n",
       "      <td id=\"T_f62e2_row2_col1\" class=\"data row2 col1\" >1.00</td>\n",
       "      <td id=\"T_f62e2_row2_col2\" class=\"data row2 col2\" >櫻桃</td>\n",
       "      <td id=\"T_f62e2_row2_col3\" class=\"data row2 col3\" >2023-10-28 00:00:00</td>\n",
       "      <td id=\"T_f62e2_row2_col4\" class=\"data row2 col4\" >2.000000</td>\n",
       "    </tr>\n",
       "  </tbody>\n",
       "</table>\n"
      ],
      "text/plain": [
       "<pandas.io.formats.style.Styler at 0x7073d3f3b3b0>"
      ]
     },
     "execution_count": 14,
     "metadata": {},
     "output_type": "execute_result"
    }
   ],
   "source": [
    "styled_df1 = df.style.format(\"{:.2f}\",subset=['A','B'])\n",
    "styled_df1"
   ]
  },
  {
   "cell_type": "code",
   "execution_count": 20,
   "metadata": {},
   "outputs": [
    {
     "ename": "SyntaxError",
     "evalue": "incomplete input (2953469293.py, line 6)",
     "output_type": "error",
     "traceback": [
      "  \u001b[36mCell\u001b[39m\u001b[36m \u001b[39m\u001b[32mIn[20]\u001b[39m\u001b[32m, line 6\u001b[39m\n\u001b[31m    \u001b[39m\u001b[31m.background_gradient(axis=None, vmin=1, vmax=5, cmap='PuBuPu')\\\u001b[39m\n                                                                   ^\n\u001b[31mSyntaxError\u001b[39m\u001b[31m:\u001b[39m incomplete input\n"
     ]
    }
   ],
   "source": [
    "weather_df = pd.DataFrame(np.random.rand(10,2)*5,\n",
    "                        index=pd.date_range(start=\"2021-01-01\", periods=10),\n",
    "                        columns=[\"Tokyo\", \"Taipei\"])\n",
    "weather_df.style\\\n",
    ".set_caption(\"Weather Conditions\")\\\n",
    ".background_gradient(axis=None, vmin=1, vmax=5, cmap='PuBuPu')\\"
   ]
  },
  {
   "cell_type": "code",
   "execution_count": 21,
   "metadata": {},
   "outputs": [],
   "source": [
    "weather_df = pd.DataFrame(np.random.rand(10,2)*5,\n",
    "                        index=pd.date_range(start=\"2021-01-01\", periods=10),\n",
    "                        columns=[\"Tokyo\", \"Taipei\"])"
   ]
  },
  {
   "cell_type": "code",
   "execution_count": 22,
   "metadata": {},
   "outputs": [
    {
     "data": {
      "text/html": [
       "<style type=\"text/css\">\n",
       "#T_38b9f_row0_col0 {\n",
       "  background-color: #abc5df;\n",
       "  color: #000000;\n",
       "}\n",
       "#T_38b9f_row1_col0 {\n",
       "  background-color: #894da3;\n",
       "  color: #f1f1f1;\n",
       "}\n",
       "#T_38b9f_row2_col0, #T_38b9f_row4_col0, #T_38b9f_row7_col0 {\n",
       "  background-color: #f7fcfd;\n",
       "  color: #000000;\n",
       "}\n",
       "#T_38b9f_row3_col0 {\n",
       "  background-color: #8d98c7;\n",
       "  color: #f1f1f1;\n",
       "}\n",
       "#T_38b9f_row5_col0 {\n",
       "  background-color: #8c7cb9;\n",
       "  color: #f1f1f1;\n",
       "}\n",
       "#T_38b9f_row6_col0 {\n",
       "  background-color: #8c85be;\n",
       "  color: #f1f1f1;\n",
       "}\n",
       "#T_38b9f_row8_col0 {\n",
       "  background-color: #550253;\n",
       "  color: #f1f1f1;\n",
       "}\n",
       "#T_38b9f_row9_col0 {\n",
       "  background-color: #8a51a5;\n",
       "  color: #f1f1f1;\n",
       "}\n",
       "</style>\n",
       "<table id=\"T_38b9f\">\n",
       "  <caption>Weather Conditions</caption>\n",
       "  <thead>\n",
       "    <tr>\n",
       "      <th class=\"blank level0\" >&nbsp;</th>\n",
       "      <th id=\"T_38b9f_level0_col0\" class=\"col_heading level0 col0\" >Tokyo</th>\n",
       "      <th id=\"T_38b9f_level0_col1\" class=\"col_heading level0 col1\" >Taipei</th>\n",
       "    </tr>\n",
       "  </thead>\n",
       "  <tbody>\n",
       "    <tr>\n",
       "      <th id=\"T_38b9f_level0_row0\" class=\"row_heading level0 row0\" >2021-01-01 00:00:00</th>\n",
       "      <td id=\"T_38b9f_row0_col0\" class=\"data row0 col0\" >2.297933</td>\n",
       "      <td id=\"T_38b9f_row0_col1\" class=\"data row0 col1\" >1.431609</td>\n",
       "    </tr>\n",
       "    <tr>\n",
       "      <th id=\"T_38b9f_level0_row1\" class=\"row_heading level0 row1\" >2021-01-02 00:00:00</th>\n",
       "      <td id=\"T_38b9f_row1_col0\" class=\"data row1 col0\" >3.858227</td>\n",
       "      <td id=\"T_38b9f_row1_col1\" class=\"data row1 col1\" >4.460962</td>\n",
       "    </tr>\n",
       "    <tr>\n",
       "      <th id=\"T_38b9f_level0_row2\" class=\"row_heading level0 row2\" >2021-01-03 00:00:00</th>\n",
       "      <td id=\"T_38b9f_row2_col0\" class=\"data row2 col0\" >0.130564</td>\n",
       "      <td id=\"T_38b9f_row2_col1\" class=\"data row2 col1\" >3.885606</td>\n",
       "    </tr>\n",
       "    <tr>\n",
       "      <th id=\"T_38b9f_level0_row3\" class=\"row_heading level0 row3\" >2021-01-04 00:00:00</th>\n",
       "      <td id=\"T_38b9f_row3_col0\" class=\"data row3 col0\" >2.983229</td>\n",
       "      <td id=\"T_38b9f_row3_col1\" class=\"data row3 col1\" >0.343569</td>\n",
       "    </tr>\n",
       "    <tr>\n",
       "      <th id=\"T_38b9f_level0_row4\" class=\"row_heading level0 row4\" >2021-01-05 00:00:00</th>\n",
       "      <td id=\"T_38b9f_row4_col0\" class=\"data row4 col0\" >0.212891</td>\n",
       "      <td id=\"T_38b9f_row4_col1\" class=\"data row4 col1\" >2.839746</td>\n",
       "    </tr>\n",
       "    <tr>\n",
       "      <th id=\"T_38b9f_level0_row5\" class=\"row_heading level0 row5\" >2021-01-06 00:00:00</th>\n",
       "      <td id=\"T_38b9f_row5_col0\" class=\"data row5 col0\" >3.304760</td>\n",
       "      <td id=\"T_38b9f_row5_col1\" class=\"data row5 col1\" >2.471977</td>\n",
       "    </tr>\n",
       "    <tr>\n",
       "      <th id=\"T_38b9f_level0_row6\" class=\"row_heading level0 row6\" >2021-01-07 00:00:00</th>\n",
       "      <td id=\"T_38b9f_row6_col0\" class=\"data row6 col0\" >3.197320</td>\n",
       "      <td id=\"T_38b9f_row6_col1\" class=\"data row6 col1\" >3.030502</td>\n",
       "    </tr>\n",
       "    <tr>\n",
       "      <th id=\"T_38b9f_level0_row7\" class=\"row_heading level0 row7\" >2021-01-08 00:00:00</th>\n",
       "      <td id=\"T_38b9f_row7_col0\" class=\"data row7 col0\" >0.672053</td>\n",
       "      <td id=\"T_38b9f_row7_col1\" class=\"data row7 col1\" >4.963475</td>\n",
       "    </tr>\n",
       "    <tr>\n",
       "      <th id=\"T_38b9f_level0_row8\" class=\"row_heading level0 row8\" >2021-01-09 00:00:00</th>\n",
       "      <td id=\"T_38b9f_row8_col0\" class=\"data row8 col0\" >4.913183</td>\n",
       "      <td id=\"T_38b9f_row8_col1\" class=\"data row8 col1\" >1.241326</td>\n",
       "    </tr>\n",
       "    <tr>\n",
       "      <th id=\"T_38b9f_level0_row9\" class=\"row_heading level0 row9\" >2021-01-10 00:00:00</th>\n",
       "      <td id=\"T_38b9f_row9_col0\" class=\"data row9 col0\" >3.798864</td>\n",
       "      <td id=\"T_38b9f_row9_col1\" class=\"data row9 col1\" >1.386244</td>\n",
       "    </tr>\n",
       "  </tbody>\n",
       "</table>\n"
      ],
      "text/plain": [
       "<pandas.io.formats.style.Styler at 0x7073d3f3b650>"
      ]
     },
     "execution_count": 22,
     "metadata": {},
     "output_type": "execute_result"
    }
   ],
   "source": [
    "weather_df.style\\\n",
    ".set_caption(\"Weather Conditions\")\\\n",
    ".background_gradient(axis=None, vmin=1, vmax=5, cmap='BuPu',subset=['Tokyo'])"
   ]
  }
 ],
 "metadata": {
  "kernelspec": {
   "display_name": "Python 3",
   "language": "python",
   "name": "python3"
  },
  "language_info": {
   "codemirror_mode": {
    "name": "ipython",
    "version": 3
   },
   "file_extension": ".py",
   "mimetype": "text/x-python",
   "name": "python",
   "nbconvert_exporter": "python",
   "pygments_lexer": "ipython3",
   "version": "3.12.1"
  }
 },
 "nbformat": 4,
 "nbformat_minor": 2
}
