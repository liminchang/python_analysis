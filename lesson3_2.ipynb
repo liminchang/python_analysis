{
 "cells": [
  {
   "cell_type": "code",
   "execution_count": 27,
   "metadata": {},
   "outputs": [
    {
     "data": {
      "text/plain": [
       "{'name': 'lily', 'age': 40, 'city': 'Taipei'}"
      ]
     },
     "execution_count": 27,
     "metadata": {},
     "output_type": "execute_result"
    }
   ],
   "source": [
    "\n",
    "P1 = {'name':'lily',\n",
    "     'age':40,\n",
    "     'city':'Taipei'}\n",
    "P1"
   ]
  },
  {
   "cell_type": "code",
   "execution_count": 28,
   "metadata": {},
   "outputs": [
    {
     "name": "stdout",
     "output_type": "stream",
     "text": [
      "lily\n"
     ]
    },
    {
     "ename": "NameError",
     "evalue": "name 'p1' is not defined",
     "output_type": "error",
     "traceback": [
      "\u001b[0;31m---------------------------------------------------------------------------\u001b[0m",
      "\u001b[0;31mNameError\u001b[0m                                 Traceback (most recent call last)",
      "Cell \u001b[0;32mIn[28], line 2\u001b[0m\n\u001b[1;32m      1\u001b[0m \u001b[38;5;28mprint\u001b[39m(P1[\u001b[38;5;124m'\u001b[39m\u001b[38;5;124mname\u001b[39m\u001b[38;5;124m'\u001b[39m])\n\u001b[0;32m----> 2\u001b[0m \u001b[38;5;28mprint\u001b[39m(\u001b[43mp1\u001b[49m\u001b[38;5;241m.\u001b[39mget(\u001b[38;5;124m'\u001b[39m\u001b[38;5;124mage\u001b[39m\u001b[38;5;124m'\u001b[39m))\n",
      "\u001b[0;31mNameError\u001b[0m: name 'p1' is not defined"
     ]
    }
   ],
   "source": [
    "print(P1['name'])\n",
    "print(p1.get('age'))"
   ]
  },
  {
   "cell_type": "code",
   "execution_count": 26,
   "metadata": {},
   "outputs": [
    {
     "ename": "NameError",
     "evalue": "name 'p1' is not defined",
     "output_type": "error",
     "traceback": [
      "\u001b[0;31m---------------------------------------------------------------------------\u001b[0m",
      "\u001b[0;31mNameError\u001b[0m                                 Traceback (most recent call last)",
      "Cell \u001b[0;32mIn[26], line 2\u001b[0m\n\u001b[1;32m      1\u001b[0m \u001b[38;5;28;01mdel\u001b[39;00m P1[\u001b[38;5;124m'\u001b[39m\u001b[38;5;124mcity\u001b[39m\u001b[38;5;124m'\u001b[39m]\n\u001b[0;32m----> 2\u001b[0m \u001b[43mp1\u001b[49m\u001b[38;5;241m.\u001b[39mpop(\u001b[38;5;124m'\u001b[39m\u001b[38;5;124mage\u001b[39m\u001b[38;5;124m'\u001b[39m)\n",
      "\u001b[0;31mNameError\u001b[0m: name 'p1' is not defined"
     ]
    }
   ],
   "source": [
    "del P1['city']\n",
    "p1.pop('age')"
   ]
  },
  {
   "cell_type": "code",
   "execution_count": 17,
   "metadata": {},
   "outputs": [
    {
     "ename": "NameError",
     "evalue": "name 'p1' is not defined",
     "output_type": "error",
     "traceback": [
      "\u001b[0;31m---------------------------------------------------------------------------\u001b[0m",
      "\u001b[0;31mNameError\u001b[0m                                 Traceback (most recent call last)",
      "Cell \u001b[0;32mIn[17], line 1\u001b[0m\n\u001b[0;32m----> 1\u001b[0m \u001b[38;5;28;01mdel\u001b[39;00m \u001b[43mp1\u001b[49m\n",
      "\u001b[0;31mNameError\u001b[0m: name 'p1' is not defined"
     ]
    }
   ],
   "source": [
    "del p1"
   ]
  },
  {
   "cell_type": "markdown",
   "metadata": {},
   "source": [
    "-如何依順序取出'串列資料'和'映射資料'的元素值\n",
    "-for_in迴圈"
   ]
  },
  {
   "cell_type": "code",
   "execution_count": 37,
   "metadata": {},
   "outputs": [
    {
     "name": "stdout",
     "output_type": "stream",
     "text": [
      "蘋果\n",
      "香蕉\n",
      "橘子\n"
     ]
    }
   ],
   "source": [
    "fruits = ['蘋果','香蕉','橘子']\n",
    "for fruit in fruits:\n",
    "    print(fruit)"
   ]
  },
  {
   "cell_type": "code",
   "execution_count": 36,
   "metadata": {},
   "outputs": [
    {
     "name": "stdout",
     "output_type": "stream",
     "text": [
      "0->(2, '橘子')\n",
      "==========\n",
      "1->(2, '橘子')\n",
      "==========\n",
      "2->(2, '橘子')\n",
      "==========\n"
     ]
    }
   ],
   "source": [
    "for index,furit in enumerate(fruits):\n",
    "    print(index, fruit,sep='->')\n",
    "    print (\"==========\");"
   ]
  },
  {
   "cell_type": "code",
   "execution_count": null,
   "metadata": {},
   "outputs": [],
   "source": [
    "for fruit in enumerate(fruits):\n",
    "    print(fruit)"
   ]
  },
  {
   "cell_type": "code",
   "execution_count": 45,
   "metadata": {},
   "outputs": [
    {
     "name": "stdout",
     "output_type": "stream",
     "text": [
      "Taipei: 台北\n",
      "New Taipei: 新北市\n",
      "Taoyuan: 桃園\n",
      "Taichung: 台中\n",
      "Tainan: 台南\n",
      "Kaohsiung: 高雄\n",
      "Keelung: 基隆\n",
      "Hsinchu: 新竹\n",
      "Chiayi: 嘉義\n",
      "Hualien: 花蓮\n"
     ]
    }
   ],
   "source": [
    "taiwan_cities = {\n",
    "    'Taipei': '台北',\n",
    "    'New Taipei': '新北市',\n",
    "    'Taoyuan': '桃園',\n",
    "    'Taichung': '台中',\n",
    "    'Tainan': '台南',\n",
    "    'Kaohsiung': '高雄',\n",
    "    'Keelung': '基隆',\n",
    "    'Hsinchu': '新竹',\n",
    "    'Chiayi': '嘉義',\n",
    "    'Hualien': '花蓮'\n",
    "}\n",
    "\n",
    "# 請使用for in迴圈取出key和value值\n",
    "for key, value in taiwan_cities.items():\n",
    "    print(f\"{key}: {value}\")"
   ]
  },
  {
   "cell_type": "code",
   "execution_count": 46,
   "metadata": {},
   "outputs": [
    {
     "data": {
      "text/plain": [
       "{'Taipei': '台北',\n",
       " 'New Taipei': '新北市',\n",
       " 'Taoyuan': '桃園',\n",
       " 'Taichung': '台中',\n",
       " 'Tainan': '台南',\n",
       " 'Kaohsiung': '高雄',\n",
       " 'Keelung': '基隆',\n",
       " 'Hsinchu': '新竹',\n",
       " 'Chiayi': '嘉義',\n",
       " 'Hualien': '花蓮'}"
      ]
     },
     "execution_count": 46,
     "metadata": {},
     "output_type": "execute_result"
    }
   ],
   "source": [
    "cities = {\n",
    "    'Taipei': '台北',\n",
    "    'New Taipei': '新北市',\n",
    "    'Taoyuan': '桃園',\n",
    "    'Taichung': '台中',\n",
    "    'Tainan': '台南',\n",
    "    'Kaohsiung': '高雄',\n",
    "    'Keelung': '基隆',\n",
    "    'Hsinchu': '新竹',\n",
    "    'Chiayi': '嘉義',\n",
    "    'Hualien': '花蓮'\n",
    "}\n",
    "taiwan_cities"
   ]
  },
  {
   "cell_type": "code",
   "execution_count": null,
   "metadata": {},
   "outputs": [],
   "source": [
    "\n",
    "#一個學生(student)的dictionary,格式如下:\n",
    "#{'name':'value','chinese':78,'english':98,'math':67,'history':87,'health':76}\n",
    "#請使用list 幫我建立50個學生"
   ]
  },
  {
   "cell_type": "code",
   "execution_count": null,
   "metadata": {},
   "outputs": [],
   "source": [
    "import random\n",
    "\n",
    "students = []\n",
    "for i in range(50):\n",
    "    student = {\n",
    "        'name': f'Student{i+1}',\n",
    "        'chinese': random.randint(60, 100),\n",
    "        'english': random.randint(60, 100),\n",
    "        'math': random.randint(60, 100),\n",
    "        'history': random.randint(60, 100),\n",
    "        'health': random.randint(60, 100)\n",
    "    }\n",
    "    students.append(student)\n",
    "\n",
    "print(students)"
   ]
  },
  {
   "cell_type": "code",
   "execution_count": 53,
   "metadata": {},
   "outputs": [
    {
     "data": {
      "text/plain": [
       "list"
      ]
     },
     "execution_count": 53,
     "metadata": {},
     "output_type": "execute_result"
    }
   ],
   "source": [
    "import random\n",
    "students = []\n",
    "for i in range(1,51):\n",
    "    students.append(\n",
    "        {\n",
    "            'name':f'stuent:{i}',\n",
    "            'chinese':50,\n",
    "         'english':50,\n",
    "         'math':50,\n",
    "         'history':50,\n",
    "         'health':50\n",
    "         }\n",
    "        )\n",
    "type(students)   \n"
   ]
  },
  {
   "cell_type": "code",
   "execution_count": 54,
   "metadata": {},
   "outputs": [
    {
     "name": "stdout",
     "output_type": "stream",
     "text": [
      "{'name': 'stuent:1', 'chinese': 50, 'english': 50, 'math': 50, 'history': 50, 'health': 50}\n",
      "{'name': 'stuent:2', 'chinese': 50, 'english': 50, 'math': 50, 'history': 50, 'health': 50}\n",
      "{'name': 'stuent:3', 'chinese': 50, 'english': 50, 'math': 50, 'history': 50, 'health': 50}\n",
      "{'name': 'stuent:4', 'chinese': 50, 'english': 50, 'math': 50, 'history': 50, 'health': 50}\n",
      "{'name': 'stuent:5', 'chinese': 50, 'english': 50, 'math': 50, 'history': 50, 'health': 50}\n",
      "{'name': 'stuent:6', 'chinese': 50, 'english': 50, 'math': 50, 'history': 50, 'health': 50}\n",
      "{'name': 'stuent:7', 'chinese': 50, 'english': 50, 'math': 50, 'history': 50, 'health': 50}\n",
      "{'name': 'stuent:8', 'chinese': 50, 'english': 50, 'math': 50, 'history': 50, 'health': 50}\n",
      "{'name': 'stuent:9', 'chinese': 50, 'english': 50, 'math': 50, 'history': 50, 'health': 50}\n",
      "{'name': 'stuent:10', 'chinese': 50, 'english': 50, 'math': 50, 'history': 50, 'health': 50}\n",
      "{'name': 'stuent:11', 'chinese': 50, 'english': 50, 'math': 50, 'history': 50, 'health': 50}\n",
      "{'name': 'stuent:12', 'chinese': 50, 'english': 50, 'math': 50, 'history': 50, 'health': 50}\n",
      "{'name': 'stuent:13', 'chinese': 50, 'english': 50, 'math': 50, 'history': 50, 'health': 50}\n",
      "{'name': 'stuent:14', 'chinese': 50, 'english': 50, 'math': 50, 'history': 50, 'health': 50}\n",
      "{'name': 'stuent:15', 'chinese': 50, 'english': 50, 'math': 50, 'history': 50, 'health': 50}\n",
      "{'name': 'stuent:16', 'chinese': 50, 'english': 50, 'math': 50, 'history': 50, 'health': 50}\n",
      "{'name': 'stuent:17', 'chinese': 50, 'english': 50, 'math': 50, 'history': 50, 'health': 50}\n",
      "{'name': 'stuent:18', 'chinese': 50, 'english': 50, 'math': 50, 'history': 50, 'health': 50}\n",
      "{'name': 'stuent:19', 'chinese': 50, 'english': 50, 'math': 50, 'history': 50, 'health': 50}\n",
      "{'name': 'stuent:20', 'chinese': 50, 'english': 50, 'math': 50, 'history': 50, 'health': 50}\n",
      "{'name': 'stuent:21', 'chinese': 50, 'english': 50, 'math': 50, 'history': 50, 'health': 50}\n",
      "{'name': 'stuent:22', 'chinese': 50, 'english': 50, 'math': 50, 'history': 50, 'health': 50}\n",
      "{'name': 'stuent:23', 'chinese': 50, 'english': 50, 'math': 50, 'history': 50, 'health': 50}\n",
      "{'name': 'stuent:24', 'chinese': 50, 'english': 50, 'math': 50, 'history': 50, 'health': 50}\n",
      "{'name': 'stuent:25', 'chinese': 50, 'english': 50, 'math': 50, 'history': 50, 'health': 50}\n",
      "{'name': 'stuent:26', 'chinese': 50, 'english': 50, 'math': 50, 'history': 50, 'health': 50}\n",
      "{'name': 'stuent:27', 'chinese': 50, 'english': 50, 'math': 50, 'history': 50, 'health': 50}\n",
      "{'name': 'stuent:28', 'chinese': 50, 'english': 50, 'math': 50, 'history': 50, 'health': 50}\n",
      "{'name': 'stuent:29', 'chinese': 50, 'english': 50, 'math': 50, 'history': 50, 'health': 50}\n",
      "{'name': 'stuent:30', 'chinese': 50, 'english': 50, 'math': 50, 'history': 50, 'health': 50}\n",
      "{'name': 'stuent:31', 'chinese': 50, 'english': 50, 'math': 50, 'history': 50, 'health': 50}\n",
      "{'name': 'stuent:32', 'chinese': 50, 'english': 50, 'math': 50, 'history': 50, 'health': 50}\n",
      "{'name': 'stuent:33', 'chinese': 50, 'english': 50, 'math': 50, 'history': 50, 'health': 50}\n",
      "{'name': 'stuent:34', 'chinese': 50, 'english': 50, 'math': 50, 'history': 50, 'health': 50}\n",
      "{'name': 'stuent:35', 'chinese': 50, 'english': 50, 'math': 50, 'history': 50, 'health': 50}\n",
      "{'name': 'stuent:36', 'chinese': 50, 'english': 50, 'math': 50, 'history': 50, 'health': 50}\n",
      "{'name': 'stuent:37', 'chinese': 50, 'english': 50, 'math': 50, 'history': 50, 'health': 50}\n",
      "{'name': 'stuent:38', 'chinese': 50, 'english': 50, 'math': 50, 'history': 50, 'health': 50}\n",
      "{'name': 'stuent:39', 'chinese': 50, 'english': 50, 'math': 50, 'history': 50, 'health': 50}\n",
      "{'name': 'stuent:40', 'chinese': 50, 'english': 50, 'math': 50, 'history': 50, 'health': 50}\n",
      "{'name': 'stuent:41', 'chinese': 50, 'english': 50, 'math': 50, 'history': 50, 'health': 50}\n",
      "{'name': 'stuent:42', 'chinese': 50, 'english': 50, 'math': 50, 'history': 50, 'health': 50}\n",
      "{'name': 'stuent:43', 'chinese': 50, 'english': 50, 'math': 50, 'history': 50, 'health': 50}\n",
      "{'name': 'stuent:44', 'chinese': 50, 'english': 50, 'math': 50, 'history': 50, 'health': 50}\n",
      "{'name': 'stuent:45', 'chinese': 50, 'english': 50, 'math': 50, 'history': 50, 'health': 50}\n",
      "{'name': 'stuent:46', 'chinese': 50, 'english': 50, 'math': 50, 'history': 50, 'health': 50}\n",
      "{'name': 'stuent:47', 'chinese': 50, 'english': 50, 'math': 50, 'history': 50, 'health': 50}\n",
      "{'name': 'stuent:48', 'chinese': 50, 'english': 50, 'math': 50, 'history': 50, 'health': 50}\n",
      "{'name': 'stuent:49', 'chinese': 50, 'english': 50, 'math': 50, 'history': 50, 'health': 50}\n",
      "{'name': 'stuent:50', 'chinese': 50, 'english': 50, 'math': 50, 'history': 50, 'health': 50}\n"
     ]
    }
   ],
   "source": [
    "for scores in students:\n",
    "    print(scores)"
   ]
  }
 ],
 "metadata": {
  "kernelspec": {
   "display_name": "base",
   "language": "python",
   "name": "python3"
  },
  "language_info": {
   "codemirror_mode": {
    "name": "ipython",
    "version": 3
   },
   "file_extension": ".py",
   "mimetype": "text/x-python",
   "name": "python",
   "nbconvert_exporter": "python",
   "pygments_lexer": "ipython3",
   "version": "3.12.2"
  }
 },
 "nbformat": 4,
 "nbformat_minor": 2
}
