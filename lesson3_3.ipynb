{
 "cells": [
  {
   "cell_type": "code",
   "execution_count": 2,
   "metadata": {},
   "outputs": [
    {
     "data": {
      "text/plain": [
       "list"
      ]
     },
     "execution_count": 2,
     "metadata": {},
     "output_type": "execute_result"
    }
   ],
   "source": [
    "import random\n",
    "students = []\n",
    "for i in range(1,51):\n",
    "    students.append(\n",
    "        {\n",
    "            'name':f'stuent:{i}',\n",
    "            'chinese':random.randint(50,100),\n",
    "         'english':random.randint(50,100),\n",
    "         'math':random.randint(50,100),\n",
    "         'history':random.randint(50,100),\n",
    "         'health':random.randint(50,100)\n",
    "         }\n",
    "        )\n",
    "students_str = str(students)\n",
    "students_str  \n",
    "type(students)"
   ]
  },
  {
   "cell_type": "code",
   "execution_count": 1,
   "metadata": {},
   "outputs": [
    {
     "ename": "NameError",
     "evalue": "name 'students' is not defined",
     "output_type": "error",
     "traceback": [
      "\u001b[0;31m---------------------------------------------------------------------------\u001b[0m",
      "\u001b[0;31mNameError\u001b[0m                                 Traceback (most recent call last)",
      "Cell \u001b[0;32mIn[1], line 7\u001b[0m\n\u001b[1;32m      5\u001b[0m \u001b[38;5;66;03m#print(type(writer))\u001b[39;00m\n\u001b[1;32m      6\u001b[0m writer\u001b[38;5;241m.\u001b[39mwriteheader()\n\u001b[0;32m----> 7\u001b[0m writer\u001b[38;5;241m.\u001b[39mwriterows(\u001b[43mstudents\u001b[49m)\n\u001b[1;32m      8\u001b[0m \u001b[38;5;66;03m#file.close()\u001b[39;00m\n\u001b[1;32m      9\u001b[0m file\u001b[38;5;241m.\u001b[39mclosed\n",
      "\u001b[0;31mNameError\u001b[0m: name 'students' is not defined"
     ]
    }
   ],
   "source": [
    "import csv\n",
    "\n",
    "file = open('student.csv',mode='w',encoding='utf-8',newline='')\n",
    "writer =csv.DictWriter(file,[\"name\",\"chinese\",\"english\",\"math\",\"history\",\"health\"])\n",
    "#print(type(writer))\n",
    "writer.writeheader()\n",
    "writer.writerows(students)\n",
    "#file.close()\n",
    "file.closed"
   ]
  },
  {
   "cell_type": "code",
   "execution_count": 2,
   "metadata": {},
   "outputs": [
    {
     "ename": "NameError",
     "evalue": "name 'students' is not defined",
     "output_type": "error",
     "traceback": [
      "\u001b[0;31m---------------------------------------------------------------------------\u001b[0m",
      "\u001b[0;31mNameError\u001b[0m                                 Traceback (most recent call last)",
      "Cell \u001b[0;32mIn[2], line 7\u001b[0m\n\u001b[1;32m      5\u001b[0m     \u001b[38;5;66;03m#print(type(writer))\u001b[39;00m\n\u001b[1;32m      6\u001b[0m     writer\u001b[38;5;241m.\u001b[39mwriteheader()\n\u001b[0;32m----> 7\u001b[0m     writer\u001b[38;5;241m.\u001b[39mwriterows(\u001b[43mstudents\u001b[49m)\n\u001b[1;32m      8\u001b[0m \u001b[38;5;66;03m#file.close()\u001b[39;00m\n\u001b[1;32m      9\u001b[0m file\u001b[38;5;241m.\u001b[39mclosed\n",
      "\u001b[0;31mNameError\u001b[0m: name 'students' is not defined"
     ]
    }
   ],
   "source": [
    "import csv\n",
    "\n",
    "with open('student.csv',mode='w',encoding='utf-8',newline='') as file:\n",
    "    writer =csv.DictWriter(file,[\"name\",\"chinese\",\"english\",\"math\",\"history\",\"health\"])\n",
    "    #print(type(writer))\n",
    "    writer.writeheader()\n",
    "    writer.writerows(students)\n",
    "#file.close()\n",
    "file.closed"
   ]
  }
 ],
 "metadata": {
  "kernelspec": {
   "display_name": "base",
   "language": "python",
   "name": "python3"
  },
  "language_info": {
   "codemirror_mode": {
    "name": "ipython",
    "version": 3
   },
   "file_extension": ".py",
   "mimetype": "text/x-python",
   "name": "python",
   "nbconvert_exporter": "python",
   "pygments_lexer": "ipython3",
   "version": "3.12.2"
  }
 },
 "nbformat": 4,
 "nbformat_minor": 2
}
